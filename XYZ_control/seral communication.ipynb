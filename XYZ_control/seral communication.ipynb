{
 "metadata": {
  "name": "",
  "signature": "sha256:f1ef6d8f477dc3af054eb0cfe9e25dc8c4342e73b413a3aff62a4ea95e2df21a"
 },
 "nbformat": 3,
 "nbformat_minor": 0,
 "worksheets": [
  {
   "cells": [
    {
     "cell_type": "code",
     "collapsed": false,
     "input": [
      "import sys\n",
      "import glob\n",
      "import serial\n",
      "\n",
      "from IPython.html.widgets import interact, interactive, fixed\n",
      "from IPython.html import widgets\n",
      "from IPython.display import clear_output, display, HTML"
     ],
     "language": "python",
     "metadata": {},
     "outputs": [],
     "prompt_number": 77
    },
    {
     "cell_type": "code",
     "collapsed": false,
     "input": [
      "def serial_ports():\n",
      "    \"\"\"Lists serial ports\n",
      "\n",
      "    :raises EnvironmentError:\n",
      "        On unsupported or unknown platforms\n",
      "    :returns:\n",
      "        A list of available serial ports\n",
      "    \"\"\"\n",
      "    if sys.platform.startswith('win'):\n",
      "        ports = ['COM' + str(i + 1) for i in range(256)]\n",
      "\n",
      "    elif sys.platform.startswith('linux') or sys.platform.startswith('cygwin'):\n",
      "        # this is to exclude your current terminal \"/dev/tty\"\n",
      "        ports = glob.glob('/dev/tty[A-Za-z]*')\n",
      "\n",
      "    elif sys.platform.startswith('darwin'):\n",
      "        ports = glob.glob('/dev/tty.*')\n",
      "\n",
      "    else:\n",
      "        raise EnvironmentError('Unsupported platform')\n",
      "\n",
      "    result = []\n",
      "    for port in ports:\n",
      "        try:\n",
      "            s = serial.Serial(port)\n",
      "            s.close()\n",
      "            result.append(port)\n",
      "        except (OSError, serial.SerialException):\n",
      "            pass\n",
      "    return result"
     ],
     "language": "python",
     "metadata": {},
     "outputs": [],
     "prompt_number": 78
    },
    {
     "cell_type": "code",
     "collapsed": false,
     "input": [
      "current_ports = serial_ports()\n",
      "ser = serial.Serial(current_ports[0], 9600, timeout=1)\n",
      "print 'Running on serial port ' + current_ports[0]"
     ],
     "language": "python",
     "metadata": {},
     "outputs": [
      {
       "output_type": "stream",
       "stream": "stdout",
       "text": [
        "Running on serial port /dev/tty.Bluetooth-Incoming-Port\n"
       ]
      }
     ],
     "prompt_number": 79
    },
    {
     "cell_type": "code",
     "collapsed": false,
     "input": [
      "port_select = widgets.DropdownWidget(values=serial_ports())\n",
      "\n",
      "def change_port(name, value):\n",
      "    ser.port = value\n",
      "    print \"Serial port changed to \" + ser.port\n",
      "\n",
      "port_select.on_trait_change(change_port, 'value')\n"
     ],
     "language": "python",
     "metadata": {},
     "outputs": [],
     "prompt_number": 84
    },
    {
     "cell_type": "code",
     "collapsed": false,
     "input": [
      "def send_movement_command(XYZ_set, axis, direction, distance):\n",
      "    ser.write(XYZ_set+':'+axis+':'+direction+':'+distance+'\\n')\n",
      "    \n",
      "def move_x_fwd(button):\n",
      "    send_movement_command(1,'x','fwd',100)\n",
      "\n",
      "def move_y_fwd(button):\n",
      "    send_movement_command(1,'y','fwd',100)\n",
      "    \n",
      "def move_z_fwd(button):\n",
      "    send_movement_command(1,'z','fwd',100)\n",
      "    \n",
      "def move_x_rev(button):\n",
      "    send_movement_command(1,'x','rev',100)\n",
      "    \n",
      "def move_y_rev(button):\n",
      "    send_movement_command(1,'y','rev',100)\n",
      "\n",
      "def move_z_rev(button):\n",
      "    send_movement_command(1,'z','rev',100)"
     ],
     "language": "python",
     "metadata": {},
     "outputs": [],
     "prompt_number": 85
    },
    {
     "cell_type": "code",
     "collapsed": false,
     "input": [
      "display(port_select)"
     ],
     "language": "python",
     "metadata": {},
     "outputs": []
    }
   ],
   "metadata": {}
  }
 ]
}